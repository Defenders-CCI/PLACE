{
  "cells": [
    {
      "cell_type": "markdown",
      "source": [
        "# Troubleshoot by Inspecting FileShare Data"
      ],
      "metadata": {
        "nteract": {
          "transient": {
            "deleting": false
          }
        }
      }
    },
    {
      "cell_type": "code",
      "source": [
        "!pip install geopandas"
      ],
      "outputs": [],
      "execution_count": null,
      "metadata": {
        "jupyter": {
          "source_hidden": false,
          "outputs_hidden": false
        },
        "nteract": {
          "transient": {
            "deleting": false
          }
        }
      }
    },
    {
      "cell_type": "code",
      "source": [
        "import azureml.core\r\n",
        "from azureml.core import Experiment, Environment, Workspace, Dataset, Datastore, ScriptRunConfig\r\n",
        "import os\r\n",
        "from os.path import join\r\n",
        "import shutil\r\n",
        "import numpy as np\r\n",
        "import geopandas as gpd\r\n",
        "\r\n",
        "# check core SDK version number\r\n",
        "\r\n",
        "print(\"Azure ML SDK Version: \", azureml.core.VERSION)"
      ],
      "outputs": [],
      "execution_count": null,
      "metadata": {}
    },
    {
      "cell_type": "code",
      "source": [
        "# load workspace configuration from the config.json file in the current folder.\r\n",
        "ws = Workspace.from_config()\r\n",
        "print(ws.name, ws.location, ws.resource_group, sep='\\t')\r\n",
        "ws.datastores\r\n",
        "# connect to our fileshar\r\n",
        "datastore = Datastore.get(workspace = ws, datastore_name = 'placefilestore')"
      ],
      "outputs": [],
      "execution_count": null,
      "metadata": {
        "jupyter": {
          "source_hidden": false,
          "outputs_hidden": false
        },
        "nteract": {
          "transient": {
            "deleting": false
          }
        }
      }
    },
    {
      "cell_type": "markdown",
      "source": [
        "## Inspect GeoJson Files"
      ],
      "metadata": {
        "nteract": {
          "transient": {
            "deleting": false
          }
        }
      }
    },
    {
      "cell_type": "code",
      "source": [
        "print(datastore)\r\n",
        "root_path = (datastore, 'THC/bastrop_county/data/vector')\r\n",
        "share_files = Dataset.File.from_files(path = [root_path])\r\n",
        "\r\n",
        "with share_files.mount() as mount:\r\n",
        "    mount_point = mount.mount_point\r\n",
        "    pts_path = join(mount_point, 'bastrop_2016.geojson')\r\n",
        "    gdf = gpd.read_file(pts_path, driver = 'GeoJSON')"
      ],
      "outputs": [],
      "execution_count": null,
      "metadata": {
        "jupyter": {
          "source_hidden": false,
          "outputs_hidden": false
        },
        "nteract": {
          "transient": {
            "deleting": false
          }
        }
      }
    },
    {
      "cell_type": "markdown",
      "source": [
        "## Inspect numpy files"
      ],
      "metadata": {
        "nteract": {
          "transient": {
            "deleting": false
          }
        }
      }
    },
    {
      "cell_type": "code",
      "source": [
        "root_path = (datastore, 'THC')\r\n",
        "share_files = Dataset.File.from_files(path = [root_path])\r\n",
        "\r\n",
        "with share_files.mount() as mount:\r\n",
        "    mount_point = mount.mount_point\r\n",
        "    npy_files = []\r\n",
        "    for root, dirs, files in os.walk(mount_point): \r\n",
        "        for f in files:\r\n",
        "            if '.npy' in f and '2020' in root:\r\n",
        "                print(root)\r\n",
        "                npy_files.append(join(root, f))\r\n",
        "\r\n",
        "    x_files = [f for f in npy_files if 'x_train' in f]\r\n",
        "    y_files = [f for f in npy_files if 'y_train' in f]\r\n",
        "    xs = [np.load(f, allow_pickle = True) for f in x_files]\r\n",
        "    ys = [np.load(f, allow_pickle = True) for f in y_files]\r\n"
      ],
      "outputs": [],
      "execution_count": null,
      "metadata": {
        "jupyter": {
          "source_hidden": false,
          "outputs_hidden": false
        },
        "nteract": {
          "transient": {
            "deleting": false
          }
        }
      }
    }
  ],
  "metadata": {
    "kernelspec": {
      "name": "python3-azureml",
      "language": "python",
      "display_name": "Python 3.6 - AzureML"
    },
    "language_info": {
      "name": "python",
      "version": "3.6.9",
      "mimetype": "text/x-python",
      "codemirror_mode": {
        "name": "ipython",
        "version": 3
      },
      "pygments_lexer": "ipython3",
      "nbconvert_exporter": "python",
      "file_extension": ".py"
    },
    "kernel_info": {
      "name": "python3-azureml"
    },
    "nteract": {
      "version": "nteract-front-end@1.0.0"
    }
  },
  "nbformat": 4,
  "nbformat_minor": 2
}