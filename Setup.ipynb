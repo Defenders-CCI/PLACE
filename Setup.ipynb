{
  "cells": [
    {
      "cell_type": "markdown",
      "source": [
        "# Create ML Studio Environment"
      ],
      "metadata": {
        "nteract": {
          "transient": {
            "deleting": false
          }
        }
      }
    },
    {
      "cell_type": "code",
      "source": [
        "import azureml.core\r\n",
        "from azureml.core import Experiment, Environment, Workspace, Dataset, Datastore, ScriptRunConfig\r\n",
        "import os\r\n",
        "from os.path import join\r\n",
        "import shutil\r\n",
        "\r\n",
        "# check core SDK version number\r\n",
        "\r\n",
        "print(\"Azure ML SDK Version: \", azureml.core.VERSION)"
      ],
      "outputs": [],
      "execution_count": null,
      "metadata": {
        "gather": {
          "logged": 1638913861123
        }
      }
    },
    {
      "cell_type": "code",
      "source": [
        "# load workspace configuration from the config.json file in the current folder.\r\n",
        "ws = Workspace.from_config()\r\n",
        "print(ws.name, ws.location, ws.resource_group, sep='\\t')\r\n",
        "ws.datastores"
      ],
      "outputs": [
        {
          "output_type": "stream",
          "name": "stdout",
          "text": "change-detection\teastus2\tplace\n"
        },
        {
          "output_type": "execute_result",
          "execution_count": 2,
          "data": {
            "text/plain": "{'autoencoderblob': {\n   \"name\": \"autoencoderblob\",\n   \"container_name\": \"autoencoder\",\n   \"account_name\": \"changedetectio8527471924\",\n   \"protocol\": \"https\",\n   \"endpoint\": \"core.windows.net\"\n },\n 'placefilestore': {\n   \"name\": \"placefilestore\",\n   \"container_name\": \"landcover-ai\",\n   \"account_name\": \"changedetectio8527471924\",\n   \"protocol\": \"https\",\n   \"endpoint\": \"core.windows.net\"\n },\n 'workspaceartifactstore': {\n   \"name\": \"workspaceartifactstore\",\n   \"container_name\": \"azureml\",\n   \"account_name\": \"changedetectio8527471924\",\n   \"protocol\": \"https\",\n   \"endpoint\": \"core.windows.net\"\n },\n 'place': {\n   \"name\": \"place\",\n   \"container_name\": \"landcover-ai\",\n   \"account_name\": \"changedetectio8527471924\",\n   \"protocol\": \"https\",\n   \"endpoint\": \"core.windows.net\"\n },\n 'cddatafilestore': {\n   \"name\": \"cddatafilestore\",\n   \"container_name\": \"my-share\",\n   \"account_name\": \"changedetectio8527471924\",\n   \"protocol\": \"https\",\n   \"endpoint\": \"core.windows.net\"\n },\n 'azureml_globaldatasets': {\n   \"name\": \"azureml_globaldatasets\",\n   \"container_name\": \"globaldatasets\",\n   \"account_name\": \"mmstorageeastus2\",\n   \"protocol\": \"https\",\n   \"endpoint\": \"core.windows.net\"\n },\n 'workspacefilestore': {\n   \"name\": \"workspacefilestore\",\n   \"container_name\": \"azureml-filestore-06b1acca-db8a-4803-b66e-c72b2b4f0327\",\n   \"account_name\": \"changedetectio8527471924\",\n   \"protocol\": \"https\",\n   \"endpoint\": \"core.windows.net\"\n },\n 'workspaceblobstore': {\n   \"name\": \"workspaceblobstore\",\n   \"container_name\": \"azureml-blobstore-06b1acca-db8a-4803-b66e-c72b2b4f0327\",\n   \"account_name\": \"changedetectio8527471924\",\n   \"protocol\": \"https\",\n   \"endpoint\": \"core.windows.net\"\n }}"
          },
          "metadata": {}
        }
      ],
      "execution_count": 2,
      "metadata": {
        "collapsed": true,
        "jupyter": {
          "source_hidden": false,
          "outputs_hidden": false
        },
        "nteract": {
          "transient": {
            "deleting": false
          }
        },
        "gather": {
          "logged": 1639063742802
        }
      }
    },
    {
      "cell_type": "code",
      "source": [
        "# register our data share containing image data in this workspace\r\n",
        "Datastore.register_azure_file_share(\r\n",
        "    account_key = 'Dku+0TqE3wzDk0vpS72stllllxRpWbSqK0qjDblVX3pSha2Qhiq2/E8wW15KcuSThZ24WGmttkSNjgIGdkBzDA==',\r\n",
        "    workspace = ws,\r\n",
        "    datastore_name = 'placefilestore',\r\n",
        "    file_share_name = 'landcover-ai',\r\n",
        "    account_name = 'changedetectio8527471924')"
      ],
      "outputs": [
        {
          "output_type": "execute_result",
          "execution_count": 4,
          "data": {
            "text/plain": "{\n  \"name\": \"placefilestore\",\n  \"container_name\": \"landcover-ai\",\n  \"account_name\": \"changedetectio8527471924\",\n  \"protocol\": \"https\",\n  \"endpoint\": \"core.windows.net\"\n}"
          },
          "metadata": {}
        }
      ],
      "execution_count": 4,
      "metadata": {
        "collapsed": true,
        "jupyter": {
          "source_hidden": false,
          "outputs_hidden": false
        },
        "nteract": {
          "transient": {
            "deleting": false
          }
        },
        "gather": {
          "logged": 1633036258386
        }
      }
    },
    {
      "cell_type": "markdown",
      "source": [
        "## Create a Virtual Compute Environment"
      ],
      "metadata": {
        "nteract": {
          "transient": {
            "deleting": false
          }
        }
      }
    },
    {
      "cell_type": "code",
      "source": [
        "# create an environment for the first time\r\n",
        "\r\n",
        "envs = Environment.list(workspace = ws)\r\n",
        "# well start with a pre-built tensorflow environment\r\n",
        "env = envs.get('AzureML-TensorFlow-2.3-GPU')\r\n",
        "env\r\n",
        "\r\n",
        "# define packages to be installed using CondaDependencies\r\n",
        "# get the packages that are already part of the pre-built environment\r\n",
        "conda_dep = env.python.conda_dependencies\r\n",
        "# list packages to install\r\n",
        "pip_packages = ['geopandas', 'opencv-python', 'rasterio', 'sklearn']\r\n",
        "\r\n",
        "# add each package to the existing conda dependencies\r\n",
        "for package in pip_packages:\r\n",
        "    conda_dep.add_pip_package(package)\r\n",
        "\r\n",
        "# double check all the packages are there\r\n",
        "conda_dep.serialize_to_string()\r\n",
        "# conda_dep = CondaDependencies.create(\r\n",
        "#     pip_packages=pip_packages)\r\n",
        "\r\n",
        "# Now update the conda dependencies of the python environment\r\n",
        "env.python.conda_dependencies=conda_dep\r\n",
        "\r\n",
        "# # Register environment to re-use later\r\n",
        "env.name = 'landcover-ai'\r\n",
        "env.register(workspace = ws)"
      ],
      "outputs": [
        {
          "output_type": "execute_result",
          "execution_count": 7,
          "data": {
            "text/plain": "{\n    \"databricks\": {\n        \"eggLibraries\": [],\n        \"jarLibraries\": [],\n        \"mavenLibraries\": [],\n        \"pypiLibraries\": [],\n        \"rcranLibraries\": []\n    },\n    \"docker\": {\n        \"arguments\": [],\n        \"baseDockerfile\": null,\n        \"baseImage\": \"mcr.microsoft.com/azureml/openmpi3.1.2-cuda10.1-cudnn7-ubuntu18.04:20210922.v1\",\n        \"baseImageRegistry\": {\n            \"address\": null,\n            \"password\": null,\n            \"registryIdentity\": null,\n            \"username\": null\n        },\n        \"enabled\": false,\n        \"platform\": {\n            \"architecture\": \"amd64\",\n            \"os\": \"Linux\"\n        },\n        \"sharedVolumes\": true,\n        \"shmSize\": null\n    },\n    \"environmentVariables\": {\n        \"EXAMPLE_ENV_VAR\": \"EXAMPLE_VALUE\"\n    },\n    \"inferencingStackVersion\": null,\n    \"name\": \"landcover-ai\",\n    \"python\": {\n        \"baseCondaEnvironment\": null,\n        \"condaDependencies\": {\n            \"channels\": [\n                \"conda-forge\"\n            ],\n            \"dependencies\": [\n                \"python=3.6.2\",\n                \"pip=20.2.4\",\n                {\n                    \"pip\": [\n                        \"azureml-core==1.34.0\",\n                        \"azureml-defaults==1.34.0\",\n                        \"azureml-telemetry==1.34.0\",\n                        \"azureml-train-restclients-hyperdrive==1.34.0\",\n                        \"azureml-train-core==1.34.0\",\n                        \"tensorflow-gpu==2.3.0\",\n                        \"cmake==3.18.2\",\n                        \"horovod==0.21.3\",\n                        \"geopandas\",\n                        \"opencv-python\",\n                        \"rasterio\",\n                        \"sklearn\"\n                    ]\n                }\n            ],\n            \"name\": \"azureml_d79d4f55948ef976d9550232a8ae20e5\"\n        },\n        \"condaDependenciesFile\": null,\n        \"interpreterPath\": \"python\",\n        \"userManagedDependencies\": false\n    },\n    \"r\": null,\n    \"spark\": {\n        \"packages\": [],\n        \"precachePackages\": true,\n        \"repositories\": []\n    },\n    \"version\": \"1\"\n}"
          },
          "metadata": {}
        }
      ],
      "execution_count": 7,
      "metadata": {
        "collapsed": true,
        "jupyter": {
          "source_hidden": false,
          "outputs_hidden": false
        },
        "nteract": {
          "transient": {
            "deleting": false
          }
        },
        "gather": {
          "logged": 1633036740951
        }
      }
    }
  ],
  "metadata": {
    "kernelspec": {
      "name": "python3-azureml",
      "language": "python",
      "display_name": "Python 3.6 - AzureML"
    },
    "language_info": {
      "name": "python",
      "version": "3.6.9",
      "mimetype": "text/x-python",
      "codemirror_mode": {
        "name": "ipython",
        "version": 3
      },
      "pygments_lexer": "ipython3",
      "nbconvert_exporter": "python",
      "file_extension": ".py"
    },
    "kernel_info": {
      "name": "python3-azureml"
    },
    "nteract": {
      "version": "nteract-front-end@1.0.0"
    },
    "microsoft": {
      "host": {
        "AzureML": {
          "notebookHasBeenCompleted": true
        }
      }
    }
  },
  "nbformat": 4,
  "nbformat_minor": 2
}